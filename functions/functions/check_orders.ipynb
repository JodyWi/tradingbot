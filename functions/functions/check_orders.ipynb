{
 "cells": [
  {
   "cell_type": "code",
   "execution_count": 5,
   "metadata": {},
   "outputs": [],
   "source": [
    "import requests\n",
    "import os\n",
    "import base64\n",
    "from luno_python.client import Client\n",
    "from dotenv import load_dotenv"
   ]
  },
  {
   "cell_type": "code",
   "execution_count": 6,
   "metadata": {},
   "outputs": [
    {
     "data": {
      "text/plain": [
       "True"
      ]
     },
     "execution_count": 6,
     "metadata": {},
     "output_type": "execute_result"
    }
   ],
   "source": [
    "# Define the Luno API endpoint for listing orders\n",
    "LUNO_API_ENDPOINT = \"https://api.luno.com/api/1/listorders\"\n",
    "load_dotenv()\n"
   ]
  },
  {
   "cell_type": "code",
   "execution_count": 7,
   "metadata": {},
   "outputs": [],
   "source": [
    "# Luno API credentials\n",
    "API_KEY_ID = os.getenv(\"LUNO_API_KEY_ID\")\n",
    "API_KEY_SECRET = os.getenv(\"LUNO_API_KEY_SECRET\")"
   ]
  },
  {
   "cell_type": "code",
   "execution_count": 8,
   "metadata": {},
   "outputs": [
    {
     "name": "stdout",
     "output_type": "stream",
     "text": [
      "Failed to retrieve orders. Status code: 401\n"
     ]
    }
   ],
   "source": [
    "# Check if API credentials are available\n",
    "if API_KEY_ID is None or API_KEY_SECRET is None:\n",
    "    print(\"Luno API credentials not found. Please check your environment variables.\")\n",
    "else:\n",
    "    # Prepare authentication headers\n",
    "    headers = {\n",
    "        \"Authorization\": f\"Basic {API_KEY_ID}:{API_KEY_SECRET}\"\n",
    "    }\n",
    "\n",
    "    # Make a GET request to retrieve the most recent orders\n",
    "    response = requests.get(LUNO_API_ENDPOINT, headers=headers)\n",
    "\n",
    "    # Check if the request was successful (HTTP status code 200)\n",
    "    if response.status_code == 200:\n",
    "        # Parse JSON response\n",
    "        orders = response.json()[\"orders\"]\n",
    "\n",
    "        # Check if orders exist\n",
    "        if orders:\n",
    "            # Print order details\n",
    "            for order in orders:\n",
    "                print(f\"Order ID: {order['order_id']}\")\n",
    "                print(f\"Pair: {order['pair']}\")\n",
    "                print(f\"Type: {order['type']}\")\n",
    "                print(f\"Volume: {order['limit_volume']}\")\n",
    "                print(f\"Price: {order['limit_price']}\")\n",
    "                print(f\"State: {order['state']}\")\n",
    "                print(\"-\" * 30)\n",
    "        else:\n",
    "            print(\"No orders found.\")\n",
    "    else:\n",
    "        print(f\"Failed to retrieve orders. Status code: {response.status_code}\")"
   ]
  }
 ],
 "metadata": {
  "kernelspec": {
   "display_name": "tradingbot",
   "language": "python",
   "name": "python3"
  },
  "language_info": {
   "codemirror_mode": {
    "name": "ipython",
    "version": 3
   },
   "file_extension": ".py",
   "mimetype": "text/x-python",
   "name": "python",
   "nbconvert_exporter": "python",
   "pygments_lexer": "ipython3",
   "version": "3.10.13"
  }
 },
 "nbformat": 4,
 "nbformat_minor": 2
}
