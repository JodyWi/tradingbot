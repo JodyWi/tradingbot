{
 "cells": [
  {
   "cell_type": "code",
   "execution_count": 14,
   "metadata": {},
   "outputs": [],
   "source": [
    "import requests\n",
    "import os\n",
    "import base64\n",
    "from luno_python.client import Client\n",
    "from dotenv import load_dotenv"
   ]
  },
  {
   "cell_type": "code",
   "execution_count": 15,
   "metadata": {},
   "outputs": [],
   "source": [
    "# Load environment variables from .env file\n",
    "load_dotenv()\n",
    "\n",
    "# Luno API endpoint for placing market orders\n",
    "LUNO_API_ENDPOINT = \"https://api.luno.com/api/1/marketorder\""
   ]
  },
  {
   "cell_type": "code",
   "execution_count": 16,
   "metadata": {},
   "outputs": [],
   "source": [
    "# Luno API credentials\n",
    "API_KEY_ID = os.getenv(\"LUNO_API_KEY_ID\")\n",
    "API_KEY_SECRET = os.getenv(\"LUNO_API_KEY_SECRET\")"
   ]
  },
  {
   "cell_type": "code",
   "execution_count": 17,
   "metadata": {},
   "outputs": [
    {
     "name": "stdout",
     "output_type": "stream",
     "text": [
      "Failed to place market order. Status code: 401\n"
     ]
    }
   ],
   "source": [
    "# Check if API credentials are available\n",
    "if API_KEY_ID is None or API_KEY_SECRET is None:\n",
    "    print(\"Luno API credentials not found. Please check your environment variables.\")\n",
    "else:\n",
    "    # Prepare authentication headers\n",
    "    headers = {\n",
    "        \"Authorization\": f\"Basic {API_KEY_ID}:{API_KEY_SECRET}\",\n",
    "        \"X-Luno-Permissions\": \"Perm_W_Orders\"  # Add Perm_W_Orders to the headers\n",
    "    }\n",
    "\n",
    "    # Construct the request payload\n",
    "    payload = {\n",
    "        \"pair\": \"LINKZAR\",  # Example pair, replace with your desired pair\n",
    "        \"type\": \"BUY\",  # Example type, can be \"BUY\" or \"SELL\"\n",
    "        \"counter_volume\": \"0.1\",  # Example volume, adjust as needed\n",
    "    }\n",
    "\n",
    "    # Make a POST request to place the market order\n",
    "    response = requests.post(LUNO_API_ENDPOINT, headers=headers, json=payload)\n",
    "\n",
    "    # Check if the request was successful (HTTP status code 200)\n",
    "    if response.status_code == 200:\n",
    "        print(\"Market order placed successfully.\")\n",
    "    else:\n",
    "        print(f\"Failed to place market order. Status code: {response.status_code}\")\n"
   ]
  }
 ],
 "metadata": {
  "kernelspec": {
   "display_name": "tradingbot",
   "language": "python",
   "name": "python3"
  },
  "language_info": {
   "codemirror_mode": {
    "name": "ipython",
    "version": 3
   },
   "file_extension": ".py",
   "mimetype": "text/x-python",
   "name": "python",
   "nbconvert_exporter": "python",
   "pygments_lexer": "ipython3",
   "version": "3.10.13"
  }
 },
 "nbformat": 4,
 "nbformat_minor": 2
}
