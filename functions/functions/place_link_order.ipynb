{
 "cells": [
  {
   "cell_type": "markdown",
   "metadata": {},
   "source": [
    "# place_link_order.py"
   ]
  },
  {
   "cell_type": "code",
   "execution_count": 1,
   "metadata": {},
   "outputs": [],
   "source": [
    "import requests\n",
    "import os\n",
    "import base64\n",
    "from luno_python.client import Client\n",
    "from dotenv import load_dotenv"
   ]
  },
  {
   "cell_type": "code",
   "execution_count": 2,
   "metadata": {},
   "outputs": [],
   "source": [
    "# Load environment variables from .env file\n",
    "load_dotenv()\n",
    "\n",
    "# Define the Luno API endpoint for placing a limit order\n",
    "LUNO_API_ENDPOINT = \"https://api.luno.com/api/1/postorder\""
   ]
  },
  {
   "cell_type": "code",
   "execution_count": 3,
   "metadata": {},
   "outputs": [],
   "source": [
    "# Luno API credentials\n",
    "API_KEY_ID = os.getenv(\"LUNO_API_KEY_ID\")\n",
    "API_KEY_SECRET = os.getenv(\"LUNO_API_KEY_SECRET\")"
   ]
  },
  {
   "cell_type": "code",
   "execution_count": 10,
   "metadata": {},
   "outputs": [],
   "source": [
    "# Check if API credentials are available\n",
    "if API_KEY_ID is None or API_KEY_SECRET is None:\n",
    "    print(\"Luno API credentials not found. Please check your environment variables.\")\n",
    "\n",
    "else:\n",
    "    # Prepare authentication headers\n",
    "    headers = {\n",
    "        \"Authorization\": f\"Basic {API_KEY_ID}:{API_KEY_SECRET}\"\n",
    "    }\n",
    "\n",
    "    # Define order parameters for the LINK/ZAR trading pair\n",
    "    pair = \"LINKZAR\"    # Currency pair (Chainlink to South African Rand)\n",
    "    type = \"BID\"         # BID for a buy limit order, ASK for a sell limit order\n",
    "    volume = \"0.11\"      # Adjusted volume to be more than 0.10 LINK\n",
    "    price = \"100\"        # Limit price for the order in ZAR\n"
   ]
  },
  {
   "cell_type": "code",
   "execution_count": 11,
   "metadata": {},
   "outputs": [
    {
     "name": "stdout",
     "output_type": "stream",
     "text": [
      "Failed to place limit order. Status code: 401\n"
     ]
    }
   ],
   "source": [
    "    # Define payload for the request\n",
    "    payload = {\n",
    "        \"pair\": pair,\n",
    "        \"type\": type,\n",
    "        \"volume\": volume,\n",
    "        \"price\": price\n",
    "    }\n",
    "\n",
    "    # Make a POST request to place the limit order\n",
    "    response = requests.post(LUNO_API_ENDPOINT, headers=headers, json=payload)\n",
    "\n",
    "    # Check if the request was successful\n",
    "    if response.status_code == 200:\n",
    "        order_id = response.json()[\"order_id\"]\n",
    "        print(f\"Limit order for Chainlink successfully placed. Order ID: {order_id}\")\n",
    "    else:\n",
    "        print(f\"Failed to place limit order. Status code: {response.status_code}\")\n"
   ]
  }
 ],
 "metadata": {
  "kernelspec": {
   "display_name": "tradingbot",
   "language": "python",
   "name": "python3"
  },
  "language_info": {
   "codemirror_mode": {
    "name": "ipython",
    "version": 3
   },
   "file_extension": ".py",
   "mimetype": "text/x-python",
   "name": "python",
   "nbconvert_exporter": "python",
   "pygments_lexer": "ipython3",
   "version": "3.10.13"
  }
 },
 "nbformat": 4,
 "nbformat_minor": 2
}
