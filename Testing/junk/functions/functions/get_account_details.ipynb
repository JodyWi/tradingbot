{
 "cells": [
  {
   "cell_type": "code",
   "execution_count": 1,
   "metadata": {},
   "outputs": [],
   "source": [
    "import requests\n",
    "import os\n",
    "import base64\n",
    "from dotenv import load_dotenv\n",
    "from luno_python.client import Client"
   ]
  },
  {
   "cell_type": "code",
   "execution_count": 2,
   "metadata": {},
   "outputs": [
    {
     "data": {
      "text/plain": [
       "True"
      ]
     },
     "execution_count": 2,
     "metadata": {},
     "output_type": "execute_result"
    }
   ],
   "source": [
    "# Load environment variables from .env file\n",
    "load_dotenv()"
   ]
  },
  {
   "cell_type": "code",
   "execution_count": 3,
   "metadata": {},
   "outputs": [],
   "source": [
    "# Luno API endpoint for retrieving account balances\n",
    "LUNO_API_ENDPOINT = \"https://api.luno.com/api/1/accounts\""
   ]
  },
  {
   "cell_type": "code",
   "execution_count": 4,
   "metadata": {},
   "outputs": [],
   "source": [
    "# Luno API credentials\n",
    "API_KEY_ID = os.getenv(\"LUNO_API_KEY_ID\")\n",
    "API_KEY_SECRET = os.getenv(\"LUNO_API_KEY_SECRET\")"
   ]
  },
  {
   "cell_type": "code",
   "execution_count": 5,
   "metadata": {},
   "outputs": [
    {
     "name": "stdout",
     "output_type": "stream",
     "text": [
      "Failed to retrieve account information. Status code: 401\n"
     ]
    }
   ],
   "source": [
    "# Check if API credentials are available\n",
    "if API_KEY_ID is None or API_KEY_SECRET is None:\n",
    "    print(\"Luno API credentials not found. Please check your .env file.\")\n",
    "else:\n",
    "    # Prepare authentication headers\n",
    "    credentials = f\"{API_KEY_ID}:{API_KEY_SECRET}\"\n",
    "    encoded_credentials = base64.b64encode(credentials.encode()).decode()\n",
    "    headers = {\n",
    "        \"Authorization\": f\"Basic {encoded_credentials}\"\n",
    "    }\n",
    "\n",
    "    # Make a GET request to retrieve account information\n",
    "    response = requests.get(LUNO_API_ENDPOINT, headers=headers)\n",
    "\n",
    "    # Check if the request was successful (HTTP status code 200)\n",
    "    if response.status_code == 200:\n",
    "        # Parse JSON response\n",
    "        accounts = response.json()[\"balance\"]\n",
    "\n",
    "        # Print information for each account\n",
    "        for account in accounts:\n",
    "            print(f\"Asset: {account['asset']}\")\n",
    "            print(f\"Account ID: {account['account_id']}\")\n",
    "            print(f\"Balance: {account['balance']}\")\n",
    "            print(\"-\" * 30)\n",
    "    else:\n",
    "        print(f\"Failed to retrieve account information. Status code: {response.status_code}\")"
   ]
  }
 ],
 "metadata": {
  "kernelspec": {
   "display_name": "tradingbot",
   "language": "python",
   "name": "python3"
  },
  "language_info": {
   "codemirror_mode": {
    "name": "ipython",
    "version": 3
   },
   "file_extension": ".py",
   "mimetype": "text/x-python",
   "name": "python",
   "nbconvert_exporter": "python",
   "pygments_lexer": "ipython3",
   "version": "3.10.13"
  }
 },
 "nbformat": 4,
 "nbformat_minor": 2
}
