{
 "cells": [
  {
   "cell_type": "code",
   "execution_count": 1,
   "metadata": {},
   "outputs": [],
   "source": [
    "import requests\n",
    "import os\n",
    "from dotenv import load_dotenv\n"
   ]
  },
  {
   "cell_type": "code",
   "execution_count": 2,
   "metadata": {},
   "outputs": [
    {
     "data": {
      "text/plain": [
       "True"
      ]
     },
     "execution_count": 2,
     "metadata": {},
     "output_type": "execute_result"
    }
   ],
   "source": [
    "# Load environment variables from .env file\n",
    "load_dotenv()\n"
   ]
  },
  {
   "cell_type": "code",
   "execution_count": 3,
   "metadata": {},
   "outputs": [],
   "source": [
    "# Luno API endpoint for retrieving order details\n",
    "LUNO_API_ENDPOINT = \"https://api.luno.com/api/1/orders/\"\n",
    "\n",
    "# Luno API credentials\n",
    "API_KEY_ID = os.getenv(\"LUNO_API_KEY_ID\")\n",
    "API_KEY_SECRET = os.getenv(\"LUNO_API_KEY_SECRET\")"
   ]
  },
  {
   "cell_type": "code",
   "execution_count": 4,
   "metadata": {},
   "outputs": [
    {
     "name": "stdout",
     "output_type": "stream",
     "text": [
      "Failed to retrieve order details. Status code: 401\n"
     ]
    }
   ],
   "source": [
    "# Check if API credentials are available\n",
    "if API_KEY_ID is None or API_KEY_SECRET is None:\n",
    "    print(\"Luno API credentials not found. Please check your .env file.\")\n",
    "else:\n",
    "    # Specify the order ID you want to retrieve details for\n",
    "    order_id = \"BXMC2CJ7HNB88U4\"  # Replace this with your desired order ID\n",
    "\n",
    "    # Prepare authentication headers\n",
    "    headers = {\n",
    "        \"Authorization\": f\"Bearer {API_KEY_SECRET}\"\n",
    "    }\n",
    "\n",
    "    # Construct the request URL with the order ID\n",
    "    request_url = f\"{LUNO_API_ENDPOINT}{order_id}\"\n",
    "\n",
    "    # Make a GET request to retrieve order details\n",
    "    response = requests.get(request_url, headers=headers)\n",
    "\n",
    "    # Check if the request was successful (HTTP status code 200)\n",
    "    if response.status_code == 200:\n",
    "        # Parse JSON response\n",
    "        order_details = response.json()\n",
    "\n",
    "        # Print order details\n",
    "        print(\"Order Details:\")\n",
    "        print(f\"Base: {order_details['base']}\")\n",
    "        print(f\"Counter: {order_details['counter']}\")\n",
    "        print(f\"Creation Timestamp: {order_details['creation_timestamp']}\")\n",
    "        print(f\"Expiration Timestamp: {order_details['expiration_timestamp']}\")\n",
    "        print(f\"Completed Timestamp: {order_details['completed_timestamp']}\")\n",
    "        print(f\"Fee Base: {order_details['fee_base']}\")\n",
    "        print(f\"Fee Counter: {order_details['fee_counter']}\")\n",
    "        print(f\"Limit Price: {order_details['limit_price']}\")\n",
    "        print(f\"Limit Volume: {order_details['limit_volume']}\")\n",
    "        print(f\"Order ID: {order_details['order_id']}\")\n",
    "        print(f\"Pair: {order_details['pair']}\")\n",
    "        print(f\"State: {order_details['state']}\")\n",
    "        print(f\"Time in Force: {order_details['time_in_force']}\")\n",
    "        print(f\"Type: {order_details['type']}\")\n",
    "    else:\n",
    "        print(f\"Failed to retrieve order details. Status code: {response.status_code}\")"
   ]
  }
 ],
 "metadata": {
  "kernelspec": {
   "display_name": "tradingbot",
   "language": "python",
   "name": "python3"
  },
  "language_info": {
   "codemirror_mode": {
    "name": "ipython",
    "version": 3
   },
   "file_extension": ".py",
   "mimetype": "text/x-python",
   "name": "python",
   "nbconvert_exporter": "python",
   "pygments_lexer": "ipython3",
   "version": "3.10.13"
  }
 },
 "nbformat": 4,
 "nbformat_minor": 2
}
